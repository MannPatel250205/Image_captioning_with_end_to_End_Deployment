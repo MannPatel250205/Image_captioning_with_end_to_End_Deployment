{
 "cells": [
  {
   "cell_type": "code",
   "execution_count": 2,
   "id": "b995eaf0",
   "metadata": {},
   "outputs": [],
   "source": [
    "import os"
   ]
  },
  {
   "cell_type": "code",
   "execution_count": 3,
   "id": "885589e5",
   "metadata": {},
   "outputs": [],
   "source": [
    "os.chdir(\"../\")"
   ]
  },
  {
   "cell_type": "code",
   "execution_count": 4,
   "id": "0b3ef10c",
   "metadata": {},
   "outputs": [
    {
     "data": {
      "text/plain": [
       "'c:\\\\Users\\\\Hp\\\\Desktop\\\\Image_Captioning_End_to_End_Deployment'"
      ]
     },
     "execution_count": 4,
     "metadata": {},
     "output_type": "execute_result"
    }
   ],
   "source": [
    "%pwd"
   ]
  },
  {
   "cell_type": "code",
   "execution_count": 5,
   "id": "ebeb219e",
   "metadata": {},
   "outputs": [],
   "source": [
    "import tensorflow as tf"
   ]
  },
  {
   "cell_type": "code",
   "execution_count": 5,
   "id": "47d3edcd",
   "metadata": {},
   "outputs": [],
   "source": [
    "model = tf.keras.models.load_model(\"artifacts/training/best_model.keras\")"
   ]
  },
  {
   "cell_type": "code",
   "execution_count": 6,
   "id": "1f5016a0",
   "metadata": {},
   "outputs": [],
   "source": [
    "from dataclasses import dataclass\n",
    "from pathlib import Path\n",
    "\n",
    "\n",
    "@dataclass(frozen=True)\n",
    "class EvaluationConfig:\n",
    "    path_of_model: Path\n",
    "    training_data: Path\n",
    "    all_params: dict\n",
    "    params_image_size: list\n",
    "    params_batch_size: int"
   ]
  },
  {
   "cell_type": "code",
   "execution_count": 7,
   "id": "2249a5a6",
   "metadata": {},
   "outputs": [],
   "source": [
    "from src.Model.constants import *\n",
    "from src.Model.utils.common import read_yaml, create_directories, save_json"
   ]
  },
  {
   "cell_type": "code",
   "execution_count": 12,
   "id": "f779d673",
   "metadata": {},
   "outputs": [],
   "source": [
    "class ConfigurationManager:\n",
    "    def __init__(\n",
    "        self, \n",
    "        config_filepath = CONFIG_FILE_PATH,\n",
    "        params_filepath = PARAMS_FILE_PATH):\n",
    "        self.config = read_yaml(config_filepath)\n",
    "        self.params = read_yaml(params_filepath)\n",
    "        create_directories([self.config.artifacts_root])\n",
    "\n",
    "    \n",
    "    def get_validation_config(self) -> EvaluationConfig:\n",
    "        eval_config = EvaluationConfig(\n",
    "            path_of_model=\"artifacts/training/best_model.keras\",\n",
    "            training_data=\"artifacts/data_ingestion/Chicken-fecal-images\",\n",
    "            all_params=self.params,\n",
    "            params_image_size=self.params.IMAGE_SIZE,\n",
    "            params_batch_size=self.params.BATCH_SIZE\n",
    "        )\n",
    "        return eval_config"
   ]
  },
  {
   "cell_type": "code",
   "execution_count": 9,
   "id": "9d415a7f",
   "metadata": {},
   "outputs": [],
   "source": [
    "from urllib.parse import urlparse"
   ]
  },
  {
   "cell_type": "code",
   "execution_count": 1,
   "id": "6b93b48d",
   "metadata": {},
   "outputs": [],
   "source": [
    "import os\n",
    "import urllib.request as request\n",
    "from zipfile import ZipFile\n",
    "import tensorflow as tf\n",
    "import time\n",
    "from tqdm import tqdm\n",
    "import pickle\n",
    "from tensorflow.keras.preprocessing.text import Tokenizer\n",
    "from tensorflow.keras.preprocessing.sequence import pad_sequences\n",
    "from tensorflow.keras.utils import to_categorical, plot_model\n",
    "import numpy as np\n",
    "from nltk.translate.bleu_score import corpus_bleu"
   ]
  },
  {
   "cell_type": "code",
   "execution_count": 23,
   "id": "3391a318",
   "metadata": {},
   "outputs": [],
   "source": [
    "class Evaluation:\n",
    "    def __init__(self, config: EvaluationConfig):\n",
    "        self.config = config\n",
    "\n",
    "    def idx_to_word(self, integer):\n",
    "        for word, index in self.tokenizer.word_index.items():\n",
    "            if index == integer:\n",
    "                return word\n",
    "        return None\n",
    "    \n",
    "    def predict_caption(self, image, tokenizer, max_length):\n",
    "        in_text = 'startseq'\n",
    "        for i in range(max_length):\n",
    "            # encode input sequence\n",
    "            sequence = tokenizer.texts_to_sequences([in_text])[0]\n",
    "            # pad the sequence\n",
    "            sequence = pad_sequences([sequence], max_length, padding='post')\n",
    "            # predict next word\n",
    "            yhat = self.model.predict([image, sequence], verbose=0)\n",
    "            # get index with high probability\n",
    "            yhat = np.argmax(yhat)\n",
    "            # convert index to word\n",
    "            word = self.idx_to_word(yhat)\n",
    "\n",
    "            if word is None:\n",
    "                break\n",
    "            in_text += \" \" + word\n",
    "            if word == 'endseq':\n",
    "                break\n",
    "        return in_text\n",
    "    \n",
    "\n",
    "    def cleaning(self, mapping):\n",
    "\n",
    "        for key, captions in mapping.items():\n",
    "            for i in range(len(captions)):\n",
    "                caption = captions[i]\n",
    "                caption = caption.lower()\n",
    "                caption = caption.replace('[^A-Za-z]', '')\n",
    "                caption = caption.replace('\\s+', ' ')\n",
    "                caption = 'startseq ' + \" \".join([word for word in caption.split() if len(word)>1]) + ' endseq'\n",
    "                captions[i] = caption\n",
    "\n",
    "    \n",
    "    def _valid_generator(self):\n",
    "        with open(os.path.join(\"artifacts/data_ingestion/\", 'features.pkl'), 'rb') as f:\n",
    "            self.features = pickle.load(f)\n",
    "\n",
    "        with open(os.path.join(\"artifacts/training/\", 'tokenize.pkl'), 'rb') as f:\n",
    "            self.tokenizer = pickle.load(f)\n",
    "\n",
    "\n",
    "        actual, predicted = list(), list()\n",
    "\n",
    "        with open(os.path.join(\"\", 'captions.txt'), 'r') as f:\n",
    "            next(f)\n",
    "            captions_doc = f.read()\n",
    "\n",
    "        \n",
    "        self.mapping = {}\n",
    "\n",
    "        for line in tqdm(captions_doc.split('\\n')):\n",
    "            tokens = line.split(',')\n",
    "            if len(line) < 2:\n",
    "                continue\n",
    "            image_id, caption = tokens[0], tokens[1:]\n",
    "\n",
    "            image_id = image_id.split('.')[0]\n",
    "\n",
    "            caption = \" \".join(caption)\n",
    "\n",
    "            if image_id not in self.mapping:\n",
    "                self.mapping[image_id] = []\n",
    "            \n",
    "            self.mapping[image_id].append(caption)\n",
    "        \n",
    "        self.cleaning(self.mapping)\n",
    "\n",
    "\n",
    "        image_ids = list(self.mapping.keys())\n",
    "        split = int(len(image_ids) * 0.90)\n",
    "        test = image_ids[split:]\n",
    "\n",
    "\n",
    "        for key in tqdm(test):\n",
    "            captions = self.mapping[key]\n",
    "\n",
    "            y_pred = self.predict_caption(self.features[key], self.tokenizer, 35)\n",
    "            # Split into words\n",
    "            actual_captions = [caption.split() for caption in captions]\n",
    "            y_pred = y_pred.split()\n",
    "            # Append to the lists\n",
    "            actual.append(actual_captions)\n",
    "            predicted.append(y_pred)\n",
    "\n",
    "        self.bleu1 = corpus_bleu(actual, predicted, weights=(1.0, 0, 0, 0))\n",
    "        self.blue2 = corpus_bleu(actual, predicted, weights=(0.5, 0.5, 0, 0))\n",
    "        \n",
    "    \n",
    "    \n",
    "    @staticmethod\n",
    "    def load_model(path: Path) -> tf.keras.Model:\n",
    "        return tf.keras.models.load_model(path)\n",
    "    \n",
    "\n",
    "    def evaluation(self):\n",
    "        self.model = self.load_model(self.config.path_of_model)\n",
    "        self._valid_generator()\n",
    "\n",
    "    \n",
    "    def save_score(self):\n",
    "        scores = {\"BLEU1\": self.bleu1, \"BLEU2\": self.blue2}\n",
    "        save_json(path=Path(\"scores.json\"), data=scores)"
   ]
  },
  {
   "cell_type": "code",
   "execution_count": 24,
   "id": "d1e813cd",
   "metadata": {},
   "outputs": [
    {
     "name": "stdout",
     "output_type": "stream",
     "text": [
      "[2025-06-08 12:18:38,105 - INFO - common - yaml file: config\\config.yaml loaded successfully]\n",
      "[2025-06-08 12:18:38,109 - INFO - common - yaml file: params.yaml loaded successfully]\n",
      "[2025-06-08 12:18:38,110 - INFO - common - created directory at: artifacts]\n"
     ]
    },
    {
     "name": "stderr",
     "output_type": "stream",
     "text": [
      "100%|██████████| 40456/40456 [00:00<00:00, 902679.36it/s]\n",
      "100%|██████████| 810/810 [11:36<00:00,  1.16it/s]\n"
     ]
    },
    {
     "name": "stdout",
     "output_type": "stream",
     "text": [
      "[2025-06-08 12:30:15,403 - INFO - common - json file saved at: scores.json]\n"
     ]
    }
   ],
   "source": [
    "try:\n",
    "    config = ConfigurationManager()\n",
    "    val_config = config.get_validation_config()\n",
    "    evaluation = Evaluation(val_config)\n",
    "    evaluation.evaluation()\n",
    "    evaluation.save_score()\n",
    "\n",
    "except Exception as e:\n",
    "   raise e"
   ]
  },
  {
   "cell_type": "code",
   "execution_count": null,
   "id": "48d63337",
   "metadata": {},
   "outputs": [],
   "source": []
  }
 ],
 "metadata": {
  "kernelspec": {
   "display_name": "venv",
   "language": "python",
   "name": "python3"
  },
  "language_info": {
   "codemirror_mode": {
    "name": "ipython",
    "version": 3
   },
   "file_extension": ".py",
   "mimetype": "text/x-python",
   "name": "python",
   "nbconvert_exporter": "python",
   "pygments_lexer": "ipython3",
   "version": "3.11.6"
  }
 },
 "nbformat": 4,
 "nbformat_minor": 5
}
