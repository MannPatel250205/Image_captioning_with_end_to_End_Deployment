{
 "cells": [
  {
   "cell_type": "code",
   "execution_count": 1,
   "id": "323a87ba",
   "metadata": {},
   "outputs": [],
   "source": [
    "import os"
   ]
  },
  {
   "cell_type": "code",
   "execution_count": 2,
   "id": "40c41a02",
   "metadata": {},
   "outputs": [],
   "source": [
    "os.chdir(\"../\")"
   ]
  },
  {
   "cell_type": "code",
   "execution_count": 3,
   "id": "7e00b3c7",
   "metadata": {},
   "outputs": [
    {
     "data": {
      "text/plain": [
       "'c:\\\\Users\\\\Hp\\\\Desktop\\\\Image_Captioning_End_to_End_Deployment'"
      ]
     },
     "execution_count": 3,
     "metadata": {},
     "output_type": "execute_result"
    }
   ],
   "source": [
    "%pwd"
   ]
  },
  {
   "cell_type": "code",
   "execution_count": 4,
   "id": "b79d1079",
   "metadata": {},
   "outputs": [],
   "source": [
    "from dataclasses import dataclass\n",
    "from pathlib import Path\n",
    "\n",
    "\n",
    "@dataclass(frozen=True)\n",
    "class TrainingConfig:\n",
    "    root_dir: Path\n",
    "    trained_model_path: Path\n",
    "    updated_base_model_path: Path\n",
    "    training_data: Path\n",
    "    params_epochs: int\n",
    "    params_batch_size: int\n",
    "    params_is_augmentation: bool\n",
    "    params_image_size: list\n",
    "\n",
    "\n",
    "\n",
    "@dataclass(frozen=True)\n",
    "class PrepareCallbacksConfig:\n",
    "    root_dir: Path\n",
    "    tensorboard_root_log_dir: Path\n",
    "    checkpoint_model_filepath: Path"
   ]
  },
  {
   "cell_type": "code",
   "execution_count": 5,
   "id": "0ffa8858",
   "metadata": {},
   "outputs": [],
   "source": [
    "from src.Model.constants import *\n",
    "from src.Model.utils.common import read_yaml, create_directories\n",
    "import tensorflow as tf"
   ]
  },
  {
   "cell_type": "code",
   "execution_count": 6,
   "id": "43e17fbc",
   "metadata": {},
   "outputs": [],
   "source": [
    "class ConfigurationManager:\n",
    "    def __init__(\n",
    "        self, \n",
    "        config_filepath = CONFIG_FILE_PATH,\n",
    "        params_filepath = PARAMS_FILE_PATH):\n",
    "        self.config = read_yaml(config_filepath)\n",
    "        self.params = read_yaml(params_filepath)\n",
    "        create_directories([self.config.artifacts_root])\n",
    "\n",
    "\n",
    "    \n",
    "    def get_prepare_callback_config(self) -> PrepareCallbacksConfig:\n",
    "        config = self.config.prepare_callbacks\n",
    "        model_ckpt_dir = os.path.dirname(config.checkpoint_model_filepath)\n",
    "        create_directories([\n",
    "            Path(model_ckpt_dir),\n",
    "            Path(config.tensorboard_root_log_dir)\n",
    "        ])\n",
    "\n",
    "        prepare_callback_config = PrepareCallbacksConfig(\n",
    "            root_dir=Path(config.root_dir),\n",
    "            tensorboard_root_log_dir=Path(config.tensorboard_root_log_dir),\n",
    "            checkpoint_model_filepath=Path(config.checkpoint_model_filepath)\n",
    "        )\n",
    "\n",
    "        return prepare_callback_config\n",
    "\n",
    "\n",
    "    def get_training_config(self) -> TrainingConfig:\n",
    "        training = self.config.training\n",
    "        prepare_base_model = self.config.prepare_base_model\n",
    "        params = self.params\n",
    "        training_data = os.path.join(self.config.data_ingestion.unzip_dir, \"Chicken-fecal-images\")\n",
    "        create_directories([\n",
    "            Path(training.root_dir)\n",
    "        ])\n",
    "\n",
    "        training_config = TrainingConfig(\n",
    "            root_dir=Path(training.root_dir),\n",
    "            trained_model_path=Path(training.trained_model_path),\n",
    "            updated_base_model_path=Path(prepare_base_model.updated_base_model_path),\n",
    "            training_data=Path(training_data),\n",
    "            params_epochs=params.EPOCHS,\n",
    "            params_batch_size=params.BATCH_SIZE,\n",
    "            params_is_augmentation=params.AUGMENTATION,\n",
    "            params_image_size=params.IMAGE_SIZE\n",
    "        )\n",
    "\n",
    "        return training_config"
   ]
  },
  {
   "cell_type": "code",
   "execution_count": 7,
   "id": "580ac765",
   "metadata": {},
   "outputs": [],
   "source": [
    "import time"
   ]
  },
  {
   "cell_type": "code",
   "execution_count": 8,
   "id": "20b97e64",
   "metadata": {},
   "outputs": [],
   "source": [
    "class PrepareCallback:\n",
    "    def __init__(self, config: PrepareCallbacksConfig):\n",
    "        self.config = config\n",
    "\n",
    "\n",
    "    \n",
    "    @property\n",
    "    def _create_tb_callbacks(self):\n",
    "        timestamp = time.strftime(\"%Y-%m-%d-%H-%M-%S\")\n",
    "        tb_running_log_dir = os.path.join(\n",
    "            self.config.tensorboard_root_log_dir,\n",
    "            f\"tb_logs_at_{timestamp}\",\n",
    "        )\n",
    "        return tf.keras.callbacks.TensorBoard(log_dir=tb_running_log_dir)\n",
    "    \n",
    "\n",
    "    @property\n",
    "    def _create_ckpt_callbacks(self):\n",
    "        return tf.keras.callbacks.ModelCheckpoint(\n",
    "            filepath=self.config.checkpoint_model_filepath,\n",
    "            save_best_only=True\n",
    "        )\n",
    "    \n",
    "    def get_tb_ckpt_callbacks(self):\n",
    "        return [\n",
    "            self._create_tb_callbacks,\n",
    "            self._create_ckpt_callbacks\n",
    "        ]"
   ]
  },
  {
   "cell_type": "code",
   "execution_count": 1,
   "id": "24da828f",
   "metadata": {},
   "outputs": [
    {
     "ename": "ModuleNotFoundError",
     "evalue": "No module named 'nltk'",
     "output_type": "error",
     "traceback": [
      "\u001b[31m---------------------------------------------------------------------------\u001b[39m",
      "\u001b[31mModuleNotFoundError\u001b[39m                       Traceback (most recent call last)",
      "\u001b[36mCell\u001b[39m\u001b[36m \u001b[39m\u001b[32mIn[1]\u001b[39m\u001b[32m, line 11\u001b[39m\n\u001b[32m      9\u001b[39m \u001b[38;5;28;01mfrom\u001b[39;00m\u001b[38;5;250m \u001b[39m\u001b[34;01mtensorflow\u001b[39;00m\u001b[34;01m.\u001b[39;00m\u001b[34;01mkeras\u001b[39;00m\u001b[34;01m.\u001b[39;00m\u001b[34;01mpreprocessing\u001b[39;00m\u001b[34;01m.\u001b[39;00m\u001b[34;01msequence\u001b[39;00m\u001b[38;5;250m \u001b[39m\u001b[38;5;28;01mimport\u001b[39;00m pad_sequences\n\u001b[32m     10\u001b[39m \u001b[38;5;28;01mfrom\u001b[39;00m\u001b[38;5;250m \u001b[39m\u001b[34;01mtensorflow\u001b[39;00m\u001b[34;01m.\u001b[39;00m\u001b[34;01mkeras\u001b[39;00m\u001b[34;01m.\u001b[39;00m\u001b[34;01mutils\u001b[39;00m\u001b[38;5;250m \u001b[39m\u001b[38;5;28;01mimport\u001b[39;00m to_categorical, plot_model\n\u001b[32m---> \u001b[39m\u001b[32m11\u001b[39m \u001b[38;5;28;01mfrom\u001b[39;00m\u001b[38;5;250m \u001b[39m\u001b[34;01mnltk\u001b[39;00m\u001b[34;01m.\u001b[39;00m\u001b[34;01mtranslate\u001b[39;00m\u001b[34;01m.\u001b[39;00m\u001b[34;01mbleu_score\u001b[39;00m\u001b[38;5;250m \u001b[39m\u001b[38;5;28;01mimport\u001b[39;00m corpus_bleu\n\u001b[32m     12\u001b[39m \u001b[38;5;28;01mimport\u001b[39;00m\u001b[38;5;250m \u001b[39m\u001b[34;01mnumpy\u001b[39;00m\u001b[38;5;250m \u001b[39m\u001b[38;5;28;01mas\u001b[39;00m\u001b[38;5;250m \u001b[39m\u001b[34;01mnp\u001b[39;00m\n",
      "\u001b[31mModuleNotFoundError\u001b[39m: No module named 'nltk'"
     ]
    }
   ],
   "source": [
    "import os\n",
    "import urllib.request as request\n",
    "from zipfile import ZipFile\n",
    "import tensorflow as tf\n",
    "import time\n",
    "from tqdm import tqdm\n",
    "import pickle\n",
    "from tensorflow.keras.preprocessing.text import Tokenizer\n",
    "from tensorflow.keras.preprocessing.sequence import pad_sequences\n",
    "from tensorflow.keras.utils import to_categorical, plot_model\n",
    "from nltk.translate.bleu_score import corpus_bleu\n",
    "import numpy as np"
   ]
  },
  {
   "cell_type": "code",
   "execution_count": 20,
   "id": "60678955",
   "metadata": {},
   "outputs": [],
   "source": [
    "class Training:\n",
    "    def __init__(self, config: TrainingConfig):\n",
    "        self.config = config\n",
    "    \n",
    "    def get_base_model(self):\n",
    "        self.model = tf.keras.models.load_model(\n",
    "            self.config.updated_base_model_path\n",
    "        )\n",
    "    \n",
    "\n",
    "    def cleaning(self, mapping):\n",
    "\n",
    "        for key, captions in mapping.items():\n",
    "            for i in range(len(captions)):\n",
    "                caption = captions[i]\n",
    "                caption = caption.lower()\n",
    "                caption = caption.replace('[^A-Za-z]', '')\n",
    "                caption = caption.replace('\\s+', ' ')\n",
    "                caption = 'startseq ' + \" \".join([word for word in caption.split() if len(word)>1]) + ' endseq'\n",
    "                captions[i] = caption\n",
    "    \n",
    "\n",
    "    def train_valid_generator(self):\n",
    "        with open(os.path.join(\"artifacts/data_ingestion/\", 'features.pkl'), 'rb') as f:\n",
    "            self.features = pickle.load(f)\n",
    "        \n",
    "        with open(os.path.join(\"\", 'captions.txt'), 'r') as f:\n",
    "            next(f)\n",
    "            captions_doc = f.read()\n",
    "        \n",
    "        self.mapping = {}\n",
    "\n",
    "        for line in tqdm(captions_doc.split('\\n')):\n",
    "            # split the line by comma(,)\n",
    "            tokens = line.split(',')\n",
    "            if len(line) < 2:\n",
    "                continue\n",
    "            image_id, caption = tokens[0], tokens[1:]\n",
    "            # remove extension from image ID\n",
    "            image_id = image_id.split('.')[0]\n",
    "\n",
    "            caption = \" \".join(caption)\n",
    "            # create list if needed\n",
    "            if image_id not in self.mapping:\n",
    "                self.mapping[image_id] = []\n",
    "            # store the caption\n",
    "            self.mapping[image_id].append(caption)\n",
    "        \n",
    "        self.cleaning(self.mapping)\n",
    "\n",
    "        all_captions = []\n",
    "        for key in self.mapping:\n",
    "            for caption in self.mapping[key]:\n",
    "                all_captions.append(caption)\n",
    "        \n",
    "        self.tokenizer = Tokenizer()\n",
    "        self.tokenizer.fit_on_texts(all_captions)\n",
    "        self.vocab_size = len(self.tokenizer.word_index) + 1\n",
    "\n",
    "        pickle.dump(self.tokenizer, open(os.path.join(\"artifacts/training/\", 'tokenize.pkl'), 'wb'))\n",
    "    \n",
    "\n",
    "    def data_generator(self, data_keys, mapping, features, tokenizer, max_length, vocab_size, batch_size):\n",
    "        X1, X2, y = list(), list(), list()\n",
    "        n = 0\n",
    "        while 1:\n",
    "            for key in data_keys:\n",
    "                n += 1\n",
    "                captions = mapping[key]\n",
    "                for caption in captions:\n",
    "                    seq = tokenizer.texts_to_sequences([caption])[0]\n",
    "                    for i in range(1, len(seq)):\n",
    "                        in_seq, out_seq = seq[:i], seq[i]\n",
    "                        in_seq = pad_sequences([in_seq], maxlen=max_length, padding='post')[0]\n",
    "                        out_seq = to_categorical([out_seq], num_classes=vocab_size)[0]\n",
    "                        X1.append(features[key][0])\n",
    "                        X2.append(in_seq)\n",
    "                        y.append(out_seq)\n",
    "                if n == batch_size:\n",
    "                    X1, X2, y = np.array(X1), np.array(X2), np.array(y)\n",
    "                    yield {\"image\": X1, \"text\": X2}, y\n",
    "                    X1, X2, y = list(), list(), list()\n",
    "                    n = 0\n",
    "        \n",
    "\n",
    "        \n",
    "\n",
    "    @staticmethod\n",
    "    def save_model(path: Path, model: tf.keras.Model):\n",
    "        model.save(path)\n",
    "\n",
    "\n",
    "    def train(self, callback_list: list):\n",
    "\n",
    "        image_ids = list(self.mapping.keys())\n",
    "        split = int(len(image_ids) * 0.90)\n",
    "        train = image_ids[:split]\n",
    "        self.steps_per_epoch = len(train) // self.config.params_batch_size\n",
    "\n",
    "        self.model.fit(\n",
    "            self.data_generator(\n",
    "                data_keys=train,\n",
    "                mapping=self.mapping,\n",
    "                features=self.features,\n",
    "                tokenizer=self.tokenizer,\n",
    "                max_length=35,\n",
    "                vocab_size=self.vocab_size,\n",
    "                batch_size=self.config.params_batch_size\n",
    "            ),\n",
    "            epochs=1,\n",
    "            steps_per_epoch=self.steps_per_epoch,\n",
    "            callbacks=callback_list\n",
    "        )\n",
    "\n",
    "        self.save_model(\n",
    "            path=self.config.trained_model_path,\n",
    "            model=self.model\n",
    "        )"
   ]
  },
  {
   "cell_type": "code",
   "execution_count": 21,
   "id": "fd319611",
   "metadata": {},
   "outputs": [
    {
     "name": "stdout",
     "output_type": "stream",
     "text": [
      "[2025-06-08 11:02:33,762 - INFO - common - yaml file: config\\config.yaml loaded successfully]\n",
      "[2025-06-08 11:02:33,765 - INFO - common - yaml file: params.yaml loaded successfully]\n",
      "[2025-06-08 11:02:33,766 - INFO - common - created directory at: artifacts]\n",
      "[2025-06-08 11:02:33,767 - INFO - common - created directory at: artifacts\\prepare_callbacks\\checkpoint_dir]\n",
      "[2025-06-08 11:02:33,769 - INFO - common - created directory at: artifacts\\prepare_callbacks\\tensorboard_log_dir]\n",
      "[2025-06-08 11:02:33,770 - INFO - common - created directory at: artifacts\\training]\n"
     ]
    },
    {
     "name": "stderr",
     "output_type": "stream",
     "text": [
      "c:\\Users\\Hp\\Desktop\\Image_Captioning_End_to_End_Deployment\\venv\\Lib\\site-packages\\keras\\src\\saving\\saving_lib.py:802: UserWarning: Skipping variable loading for optimizer 'adam', because it has 22 variables whereas the saved optimizer has 2 variables. \n",
      "  saveable.load_own_variables(weights_store.get(inner_path))\n",
      "100%|██████████| 40456/40456 [00:00<00:00, 1160912.41it/s]\n"
     ]
    },
    {
     "name": "stdout",
     "output_type": "stream",
     "text": [
      "\u001b[1m113/113\u001b[0m \u001b[32m━━━━━━━━━━━━━━━━━━━━\u001b[0m\u001b[37m\u001b[0m \u001b[1m0s\u001b[0m 3s/step - loss: 6.1914"
     ]
    },
    {
     "name": "stderr",
     "output_type": "stream",
     "text": [
      "c:\\Users\\Hp\\Desktop\\Image_Captioning_End_to_End_Deployment\\venv\\Lib\\site-packages\\keras\\src\\callbacks\\model_checkpoint.py:302: UserWarning: Can save best model only with val_loss available.\n",
      "  if self._should_save_model(epoch, batch, logs, filepath):\n"
     ]
    },
    {
     "name": "stdout",
     "output_type": "stream",
     "text": [
      "\u001b[1m113/113\u001b[0m \u001b[32m━━━━━━━━━━━━━━━━━━━━\u001b[0m\u001b[37m\u001b[0m \u001b[1m342s\u001b[0m 3s/step - loss: 6.1859\n"
     ]
    }
   ],
   "source": [
    "try:\n",
    "    config = ConfigurationManager()\n",
    "    prepare_callbacks_config = config.get_prepare_callback_config()\n",
    "    prepare_callbacks = PrepareCallback(config=prepare_callbacks_config)\n",
    "    callback_list = prepare_callbacks.get_tb_ckpt_callbacks()\n",
    "\n",
    "    training_config = config.get_training_config()\n",
    "    training = Training(config=training_config)\n",
    "    training.get_base_model()\n",
    "    training.train_valid_generator()\n",
    "    training.train(\n",
    "        callback_list=callback_list\n",
    "    )\n",
    "    \n",
    "except Exception as e:\n",
    "    raise e"
   ]
  },
  {
   "cell_type": "code",
   "execution_count": null,
   "id": "7ad9c591",
   "metadata": {},
   "outputs": [],
   "source": []
  }
 ],
 "metadata": {
  "kernelspec": {
   "display_name": "venv",
   "language": "python",
   "name": "python3"
  },
  "language_info": {
   "codemirror_mode": {
    "name": "ipython",
    "version": 3
   },
   "file_extension": ".py",
   "mimetype": "text/x-python",
   "name": "python",
   "nbconvert_exporter": "python",
   "pygments_lexer": "ipython3",
   "version": "3.11.6"
  }
 },
 "nbformat": 4,
 "nbformat_minor": 5
}
